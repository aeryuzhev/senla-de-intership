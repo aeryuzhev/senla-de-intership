{
 "cells": [
  {
   "cell_type": "code",
   "execution_count": 17,
   "metadata": {},
   "outputs": [],
   "source": [
    "import pandas as pd"
   ]
  },
  {
   "cell_type": "code",
   "execution_count": 18,
   "metadata": {},
   "outputs": [],
   "source": [
    "transactions = pd.read_csv(\"/home/aerik/learning/code/senla-de-intership/block_01/data/transactions_train.csv\", nrows=1000000)"
   ]
  },
  {
   "cell_type": "code",
   "execution_count": 19,
   "metadata": {},
   "outputs": [
    {
     "data": {
      "text/plain": [
       "Index(['t_dat', 'customer_id', 'article_id', 'price', 'sales_channel_id'], dtype='object')"
      ]
     },
     "execution_count": 19,
     "metadata": {},
     "output_type": "execute_result"
    }
   ],
   "source": [
    "transactions.columns"
   ]
  },
  {
   "cell_type": "code",
   "execution_count": 20,
   "metadata": {},
   "outputs": [
    {
     "data": {
      "text/html": [
       "<div>\n",
       "<style scoped>\n",
       "    .dataframe tbody tr th:only-of-type {\n",
       "        vertical-align: middle;\n",
       "    }\n",
       "\n",
       "    .dataframe tbody tr th {\n",
       "        vertical-align: top;\n",
       "    }\n",
       "\n",
       "    .dataframe thead th {\n",
       "        text-align: right;\n",
       "    }\n",
       "</style>\n",
       "<table border=\"1\" class=\"dataframe\">\n",
       "  <thead>\n",
       "    <tr style=\"text-align: right;\">\n",
       "      <th></th>\n",
       "      <th>article_id</th>\n",
       "      <th>price</th>\n",
       "      <th>sales_channel_id</th>\n",
       "    </tr>\n",
       "  </thead>\n",
       "  <tbody>\n",
       "    <tr>\n",
       "      <th>count</th>\n",
       "      <td>1.000000e+06</td>\n",
       "      <td>1000000.000000</td>\n",
       "      <td>1000000.000000</td>\n",
       "    </tr>\n",
       "    <tr>\n",
       "      <th>mean</th>\n",
       "      <td>5.859517e+08</td>\n",
       "      <td>0.030179</td>\n",
       "      <td>1.662943</td>\n",
       "    </tr>\n",
       "    <tr>\n",
       "      <th>std</th>\n",
       "      <td>1.071178e+08</td>\n",
       "      <td>0.022913</td>\n",
       "      <td>0.472705</td>\n",
       "    </tr>\n",
       "    <tr>\n",
       "      <th>min</th>\n",
       "      <td>1.087750e+08</td>\n",
       "      <td>0.000678</td>\n",
       "      <td>1.000000</td>\n",
       "    </tr>\n",
       "    <tr>\n",
       "      <th>25%</th>\n",
       "      <td>5.544500e+08</td>\n",
       "      <td>0.016932</td>\n",
       "      <td>1.000000</td>\n",
       "    </tr>\n",
       "    <tr>\n",
       "      <th>50%</th>\n",
       "      <td>6.194530e+08</td>\n",
       "      <td>0.025407</td>\n",
       "      <td>2.000000</td>\n",
       "    </tr>\n",
       "    <tr>\n",
       "      <th>75%</th>\n",
       "      <td>6.603670e+08</td>\n",
       "      <td>0.033881</td>\n",
       "      <td>2.000000</td>\n",
       "    </tr>\n",
       "    <tr>\n",
       "      <th>max</th>\n",
       "      <td>7.402370e+08</td>\n",
       "      <td>0.591525</td>\n",
       "      <td>2.000000</td>\n",
       "    </tr>\n",
       "  </tbody>\n",
       "</table>\n",
       "</div>"
      ],
      "text/plain": [
       "         article_id           price  sales_channel_id\n",
       "count  1.000000e+06  1000000.000000    1000000.000000\n",
       "mean   5.859517e+08        0.030179          1.662943\n",
       "std    1.071178e+08        0.022913          0.472705\n",
       "min    1.087750e+08        0.000678          1.000000\n",
       "25%    5.544500e+08        0.016932          1.000000\n",
       "50%    6.194530e+08        0.025407          2.000000\n",
       "75%    6.603670e+08        0.033881          2.000000\n",
       "max    7.402370e+08        0.591525          2.000000"
      ]
     },
     "execution_count": 20,
     "metadata": {},
     "output_type": "execute_result"
    }
   ],
   "source": [
    "transactions.describe()"
   ]
  },
  {
   "cell_type": "code",
   "execution_count": 21,
   "metadata": {},
   "outputs": [
    {
     "data": {
      "text/html": [
       "<div>\n",
       "<style scoped>\n",
       "    .dataframe tbody tr th:only-of-type {\n",
       "        vertical-align: middle;\n",
       "    }\n",
       "\n",
       "    .dataframe tbody tr th {\n",
       "        vertical-align: top;\n",
       "    }\n",
       "\n",
       "    .dataframe thead th {\n",
       "        text-align: right;\n",
       "    }\n",
       "</style>\n",
       "<table border=\"1\" class=\"dataframe\">\n",
       "  <thead>\n",
       "    <tr style=\"text-align: right;\">\n",
       "      <th></th>\n",
       "      <th>t_dat</th>\n",
       "      <th>customer_id</th>\n",
       "      <th>article_id</th>\n",
       "      <th>price</th>\n",
       "      <th>sales_channel_id</th>\n",
       "    </tr>\n",
       "  </thead>\n",
       "  <tbody>\n",
       "    <tr>\n",
       "      <th>398349</th>\n",
       "      <td>2018-09-28</td>\n",
       "      <td>bf60544f205409bea68c879237dced7bfdcaa99ee2a3fb...</td>\n",
       "      <td>665481001</td>\n",
       "      <td>0.040661</td>\n",
       "      <td>1</td>\n",
       "    </tr>\n",
       "    <tr>\n",
       "      <th>455913</th>\n",
       "      <td>2018-09-29</td>\n",
       "      <td>49a90e6a1f4a6c4a8a9b3f387f88f52cf42ff52f9e2bcc...</td>\n",
       "      <td>633808003</td>\n",
       "      <td>0.004051</td>\n",
       "      <td>1</td>\n",
       "    </tr>\n",
       "    <tr>\n",
       "      <th>838656</th>\n",
       "      <td>2018-10-07</td>\n",
       "      <td>8fccbd3282cb68f3ff94042bcb2c0a6f9be2f0a64e2627...</td>\n",
       "      <td>675027001</td>\n",
       "      <td>0.033881</td>\n",
       "      <td>1</td>\n",
       "    </tr>\n",
       "    <tr>\n",
       "      <th>593847</th>\n",
       "      <td>2018-09-30</td>\n",
       "      <td>f9d0f758ecae0663dbec48134c10a3ce5e5ddd91e4a629...</td>\n",
       "      <td>676728001</td>\n",
       "      <td>0.016932</td>\n",
       "      <td>2</td>\n",
       "    </tr>\n",
       "    <tr>\n",
       "      <th>925175</th>\n",
       "      <td>2018-10-10</td>\n",
       "      <td>1620685f478e2addad14ec436ccc3f502bb8d46be79371...</td>\n",
       "      <td>181160009</td>\n",
       "      <td>0.028797</td>\n",
       "      <td>2</td>\n",
       "    </tr>\n",
       "    <tr>\n",
       "      <th>266443</th>\n",
       "      <td>2018-09-26</td>\n",
       "      <td>387609d09c03a797654709272c32748b7e258748b43958...</td>\n",
       "      <td>651724003</td>\n",
       "      <td>0.033881</td>\n",
       "      <td>2</td>\n",
       "    </tr>\n",
       "    <tr>\n",
       "      <th>40734</th>\n",
       "      <td>2018-09-20</td>\n",
       "      <td>d79ebbc41493f719849bddbc76c7f19be09eb2a1619558...</td>\n",
       "      <td>578825001</td>\n",
       "      <td>0.032186</td>\n",
       "      <td>2</td>\n",
       "    </tr>\n",
       "    <tr>\n",
       "      <th>960274</th>\n",
       "      <td>2018-10-10</td>\n",
       "      <td>9fb1e9d90c660b24a5934309699ec4c97dd977b5a0cbdb...</td>\n",
       "      <td>591088003</td>\n",
       "      <td>0.033881</td>\n",
       "      <td>2</td>\n",
       "    </tr>\n",
       "    <tr>\n",
       "      <th>611854</th>\n",
       "      <td>2018-10-01</td>\n",
       "      <td>7332ca6036d40da122f10db2dcbc85cb47de86389479f3...</td>\n",
       "      <td>576897002</td>\n",
       "      <td>0.013542</td>\n",
       "      <td>1</td>\n",
       "    </tr>\n",
       "    <tr>\n",
       "      <th>317153</th>\n",
       "      <td>2018-09-27</td>\n",
       "      <td>4c2081c90c7d6eaf6a12ba62a1badfeb71d8dd01765cb0...</td>\n",
       "      <td>663942005</td>\n",
       "      <td>0.033881</td>\n",
       "      <td>2</td>\n",
       "    </tr>\n",
       "  </tbody>\n",
       "</table>\n",
       "</div>"
      ],
      "text/plain": [
       "             t_dat                                        customer_id   \n",
       "398349  2018-09-28  bf60544f205409bea68c879237dced7bfdcaa99ee2a3fb...  \\\n",
       "455913  2018-09-29  49a90e6a1f4a6c4a8a9b3f387f88f52cf42ff52f9e2bcc...   \n",
       "838656  2018-10-07  8fccbd3282cb68f3ff94042bcb2c0a6f9be2f0a64e2627...   \n",
       "593847  2018-09-30  f9d0f758ecae0663dbec48134c10a3ce5e5ddd91e4a629...   \n",
       "925175  2018-10-10  1620685f478e2addad14ec436ccc3f502bb8d46be79371...   \n",
       "266443  2018-09-26  387609d09c03a797654709272c32748b7e258748b43958...   \n",
       "40734   2018-09-20  d79ebbc41493f719849bddbc76c7f19be09eb2a1619558...   \n",
       "960274  2018-10-10  9fb1e9d90c660b24a5934309699ec4c97dd977b5a0cbdb...   \n",
       "611854  2018-10-01  7332ca6036d40da122f10db2dcbc85cb47de86389479f3...   \n",
       "317153  2018-09-27  4c2081c90c7d6eaf6a12ba62a1badfeb71d8dd01765cb0...   \n",
       "\n",
       "        article_id     price  sales_channel_id  \n",
       "398349   665481001  0.040661                 1  \n",
       "455913   633808003  0.004051                 1  \n",
       "838656   675027001  0.033881                 1  \n",
       "593847   676728001  0.016932                 2  \n",
       "925175   181160009  0.028797                 2  \n",
       "266443   651724003  0.033881                 2  \n",
       "40734    578825001  0.032186                 2  \n",
       "960274   591088003  0.033881                 2  \n",
       "611854   576897002  0.013542                 1  \n",
       "317153   663942005  0.033881                 2  "
      ]
     },
     "execution_count": 21,
     "metadata": {},
     "output_type": "execute_result"
    }
   ],
   "source": [
    "transactions.sample(n=10)"
   ]
  },
  {
   "cell_type": "code",
   "execution_count": 27,
   "metadata": {},
   "outputs": [
    {
     "data": {
      "text/plain": [
       "count    1000000.000000\n",
       "mean           0.030179\n",
       "std            0.022913\n",
       "min            0.000678\n",
       "25%            0.016932\n",
       "50%            0.025407\n",
       "75%            0.033881\n",
       "max            0.591525\n",
       "Name: price, dtype: float64"
      ]
     },
     "execution_count": 27,
     "metadata": {},
     "output_type": "execute_result"
    }
   ],
   "source": [
    "transactions[\"price\"].describe()"
   ]
  },
  {
   "cell_type": "code",
   "execution_count": 26,
   "metadata": {},
   "outputs": [
    {
     "data": {
      "text/plain": [
       "price\n",
       "0.033881    135140\n",
       "0.016932    103130\n",
       "0.025407     98883\n",
       "0.013542     56541\n",
       "0.050831     54372\n",
       "             ...  \n",
       "0.066695         1\n",
       "0.098237         1\n",
       "0.038712         1\n",
       "0.129051         1\n",
       "0.043932         1\n",
       "Name: count, Length: 2909, dtype: int64"
      ]
     },
     "execution_count": 26,
     "metadata": {},
     "output_type": "execute_result"
    }
   ],
   "source": [
    "transactions[\"price\"].value_counts()"
   ]
  }
 ],
 "metadata": {
  "kernelspec": {
   "display_name": "Python 3",
   "language": "python",
   "name": "python3"
  },
  "language_info": {
   "codemirror_mode": {
    "name": "ipython",
    "version": 3
   },
   "file_extension": ".py",
   "mimetype": "text/x-python",
   "name": "python",
   "nbconvert_exporter": "python",
   "pygments_lexer": "ipython3",
   "version": "3.10.12"
  },
  "orig_nbformat": 4
 },
 "nbformat": 4,
 "nbformat_minor": 2
}
