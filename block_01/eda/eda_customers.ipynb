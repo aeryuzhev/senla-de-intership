{
 "cells": [
  {
   "cell_type": "code",
   "execution_count": 15,
   "metadata": {},
   "outputs": [],
   "source": [
    "import pandas as pd"
   ]
  },
  {
   "cell_type": "code",
   "execution_count": 16,
   "metadata": {},
   "outputs": [],
   "source": [
    "customers = pd.read_csv(\"/home/aerik/learning/code/senla-de-intership/block_01/data/customers.csv\")"
   ]
  },
  {
   "cell_type": "code",
   "execution_count": 17,
   "metadata": {},
   "outputs": [
    {
     "data": {
      "text/plain": [
       "Index(['customer_id', 'FN', 'Active', 'club_member_status',\n",
       "       'fashion_news_frequency', 'age', 'postal_code'],\n",
       "      dtype='object')"
      ]
     },
     "execution_count": 17,
     "metadata": {},
     "output_type": "execute_result"
    }
   ],
   "source": [
    "customers.columns"
   ]
  },
  {
   "cell_type": "code",
   "execution_count": 18,
   "metadata": {},
   "outputs": [
    {
     "data": {
      "text/html": [
       "<div>\n",
       "<style scoped>\n",
       "    .dataframe tbody tr th:only-of-type {\n",
       "        vertical-align: middle;\n",
       "    }\n",
       "\n",
       "    .dataframe tbody tr th {\n",
       "        vertical-align: top;\n",
       "    }\n",
       "\n",
       "    .dataframe thead th {\n",
       "        text-align: right;\n",
       "    }\n",
       "</style>\n",
       "<table border=\"1\" class=\"dataframe\">\n",
       "  <thead>\n",
       "    <tr style=\"text-align: right;\">\n",
       "      <th></th>\n",
       "      <th>FN</th>\n",
       "      <th>Active</th>\n",
       "      <th>age</th>\n",
       "    </tr>\n",
       "  </thead>\n",
       "  <tbody>\n",
       "    <tr>\n",
       "      <th>count</th>\n",
       "      <td>476930.0</td>\n",
       "      <td>464404.0</td>\n",
       "      <td>1.356119e+06</td>\n",
       "    </tr>\n",
       "    <tr>\n",
       "      <th>mean</th>\n",
       "      <td>1.0</td>\n",
       "      <td>1.0</td>\n",
       "      <td>3.638696e+01</td>\n",
       "    </tr>\n",
       "    <tr>\n",
       "      <th>std</th>\n",
       "      <td>0.0</td>\n",
       "      <td>0.0</td>\n",
       "      <td>1.431363e+01</td>\n",
       "    </tr>\n",
       "    <tr>\n",
       "      <th>min</th>\n",
       "      <td>1.0</td>\n",
       "      <td>1.0</td>\n",
       "      <td>1.600000e+01</td>\n",
       "    </tr>\n",
       "    <tr>\n",
       "      <th>25%</th>\n",
       "      <td>1.0</td>\n",
       "      <td>1.0</td>\n",
       "      <td>2.400000e+01</td>\n",
       "    </tr>\n",
       "    <tr>\n",
       "      <th>50%</th>\n",
       "      <td>1.0</td>\n",
       "      <td>1.0</td>\n",
       "      <td>3.200000e+01</td>\n",
       "    </tr>\n",
       "    <tr>\n",
       "      <th>75%</th>\n",
       "      <td>1.0</td>\n",
       "      <td>1.0</td>\n",
       "      <td>4.900000e+01</td>\n",
       "    </tr>\n",
       "    <tr>\n",
       "      <th>max</th>\n",
       "      <td>1.0</td>\n",
       "      <td>1.0</td>\n",
       "      <td>9.900000e+01</td>\n",
       "    </tr>\n",
       "  </tbody>\n",
       "</table>\n",
       "</div>"
      ],
      "text/plain": [
       "             FN    Active           age\n",
       "count  476930.0  464404.0  1.356119e+06\n",
       "mean        1.0       1.0  3.638696e+01\n",
       "std         0.0       0.0  1.431363e+01\n",
       "min         1.0       1.0  1.600000e+01\n",
       "25%         1.0       1.0  2.400000e+01\n",
       "50%         1.0       1.0  3.200000e+01\n",
       "75%         1.0       1.0  4.900000e+01\n",
       "max         1.0       1.0  9.900000e+01"
      ]
     },
     "execution_count": 18,
     "metadata": {},
     "output_type": "execute_result"
    }
   ],
   "source": [
    "customers.describe()"
   ]
  },
  {
   "cell_type": "code",
   "execution_count": 19,
   "metadata": {},
   "outputs": [
    {
     "data": {
      "text/html": [
       "<div>\n",
       "<style scoped>\n",
       "    .dataframe tbody tr th:only-of-type {\n",
       "        vertical-align: middle;\n",
       "    }\n",
       "\n",
       "    .dataframe tbody tr th {\n",
       "        vertical-align: top;\n",
       "    }\n",
       "\n",
       "    .dataframe thead th {\n",
       "        text-align: right;\n",
       "    }\n",
       "</style>\n",
       "<table border=\"1\" class=\"dataframe\">\n",
       "  <thead>\n",
       "    <tr style=\"text-align: right;\">\n",
       "      <th></th>\n",
       "      <th>customer_id</th>\n",
       "      <th>FN</th>\n",
       "      <th>Active</th>\n",
       "      <th>club_member_status</th>\n",
       "      <th>fashion_news_frequency</th>\n",
       "      <th>age</th>\n",
       "      <th>postal_code</th>\n",
       "    </tr>\n",
       "  </thead>\n",
       "  <tbody>\n",
       "    <tr>\n",
       "      <th>1365681</th>\n",
       "      <td>fecf72388f3a875afb80ca7ec1153ebc6ce913c11b6276...</td>\n",
       "      <td>NaN</td>\n",
       "      <td>NaN</td>\n",
       "      <td>ACTIVE</td>\n",
       "      <td>NONE</td>\n",
       "      <td>37.0</td>\n",
       "      <td>530dcb540f540ad7e3b6ec03772fb4319e2063b6288273...</td>\n",
       "    </tr>\n",
       "    <tr>\n",
       "      <th>994751</th>\n",
       "      <td>b9a22086410a50434e15ec3079c9bddccd234a9e574b7a...</td>\n",
       "      <td>NaN</td>\n",
       "      <td>NaN</td>\n",
       "      <td>ACTIVE</td>\n",
       "      <td>NONE</td>\n",
       "      <td>41.0</td>\n",
       "      <td>2e10f9c9154830853c465e6c34db663391f7e3ad56ecb2...</td>\n",
       "    </tr>\n",
       "    <tr>\n",
       "      <th>435826</th>\n",
       "      <td>517711f028603cf59626524cd5497692a28b33b593da18...</td>\n",
       "      <td>NaN</td>\n",
       "      <td>NaN</td>\n",
       "      <td>ACTIVE</td>\n",
       "      <td>NONE</td>\n",
       "      <td>57.0</td>\n",
       "      <td>2c29ae653a9282cce4151bd87643c907644e09541abc28...</td>\n",
       "    </tr>\n",
       "    <tr>\n",
       "      <th>429314</th>\n",
       "      <td>5045c28d45de2dadedc9e0eb4cc6f7ce4817a0d4cac24e...</td>\n",
       "      <td>NaN</td>\n",
       "      <td>NaN</td>\n",
       "      <td>ACTIVE</td>\n",
       "      <td>NONE</td>\n",
       "      <td>24.0</td>\n",
       "      <td>2c29ae653a9282cce4151bd87643c907644e09541abc28...</td>\n",
       "    </tr>\n",
       "    <tr>\n",
       "      <th>311344</th>\n",
       "      <td>3a2ccc6e7b84411d989815413e00f5e7fc03caf9fc056a...</td>\n",
       "      <td>NaN</td>\n",
       "      <td>NaN</td>\n",
       "      <td>ACTIVE</td>\n",
       "      <td>NONE</td>\n",
       "      <td>37.0</td>\n",
       "      <td>2c29ae653a9282cce4151bd87643c907644e09541abc28...</td>\n",
       "    </tr>\n",
       "    <tr>\n",
       "      <th>446175</th>\n",
       "      <td>536623ca0114d4ff23f04d9c87d03f0a48269d8076ab70...</td>\n",
       "      <td>NaN</td>\n",
       "      <td>NaN</td>\n",
       "      <td>PRE-CREATE</td>\n",
       "      <td>NONE</td>\n",
       "      <td>25.0</td>\n",
       "      <td>65b5757a0ee4d4a62f5b68241482c23eb910f109fce2d0...</td>\n",
       "    </tr>\n",
       "    <tr>\n",
       "      <th>953509</th>\n",
       "      <td>b1e4db1ea6c0ad4f4f5adcd10917e837aab96e2523aa2b...</td>\n",
       "      <td>1.0</td>\n",
       "      <td>1.0</td>\n",
       "      <td>ACTIVE</td>\n",
       "      <td>Regularly</td>\n",
       "      <td>46.0</td>\n",
       "      <td>cbf6b258279087af127e0c80b1d5cbf952246fe34ea926...</td>\n",
       "    </tr>\n",
       "    <tr>\n",
       "      <th>1107388</th>\n",
       "      <td>cea606206a6ade50df1fc074fba14def6eb9d195764e40...</td>\n",
       "      <td>NaN</td>\n",
       "      <td>NaN</td>\n",
       "      <td>ACTIVE</td>\n",
       "      <td>NONE</td>\n",
       "      <td>32.0</td>\n",
       "      <td>1913d218f8ee034acd990a6197d57329a29037f40d8998...</td>\n",
       "    </tr>\n",
       "    <tr>\n",
       "      <th>65559</th>\n",
       "      <td>0c42ff558340690e425b92593ee66aad82b1e801d7bad0...</td>\n",
       "      <td>NaN</td>\n",
       "      <td>NaN</td>\n",
       "      <td>ACTIVE</td>\n",
       "      <td>NONE</td>\n",
       "      <td>33.0</td>\n",
       "      <td>5f160c2a6edfa619dc5e0679efa7b0b2b6cf8a74afe315...</td>\n",
       "    </tr>\n",
       "    <tr>\n",
       "      <th>635463</th>\n",
       "      <td>76989783a0423e75f4e628cb68dd68e9b26adc042b2fa0...</td>\n",
       "      <td>NaN</td>\n",
       "      <td>NaN</td>\n",
       "      <td>ACTIVE</td>\n",
       "      <td>NONE</td>\n",
       "      <td>30.0</td>\n",
       "      <td>f0dafb6f3bba0e97b057e08a0b3b9be1b5cbffcce01545...</td>\n",
       "    </tr>\n",
       "  </tbody>\n",
       "</table>\n",
       "</div>"
      ],
      "text/plain": [
       "                                               customer_id   FN  Active   \n",
       "1365681  fecf72388f3a875afb80ca7ec1153ebc6ce913c11b6276...  NaN     NaN  \\\n",
       "994751   b9a22086410a50434e15ec3079c9bddccd234a9e574b7a...  NaN     NaN   \n",
       "435826   517711f028603cf59626524cd5497692a28b33b593da18...  NaN     NaN   \n",
       "429314   5045c28d45de2dadedc9e0eb4cc6f7ce4817a0d4cac24e...  NaN     NaN   \n",
       "311344   3a2ccc6e7b84411d989815413e00f5e7fc03caf9fc056a...  NaN     NaN   \n",
       "446175   536623ca0114d4ff23f04d9c87d03f0a48269d8076ab70...  NaN     NaN   \n",
       "953509   b1e4db1ea6c0ad4f4f5adcd10917e837aab96e2523aa2b...  1.0     1.0   \n",
       "1107388  cea606206a6ade50df1fc074fba14def6eb9d195764e40...  NaN     NaN   \n",
       "65559    0c42ff558340690e425b92593ee66aad82b1e801d7bad0...  NaN     NaN   \n",
       "635463   76989783a0423e75f4e628cb68dd68e9b26adc042b2fa0...  NaN     NaN   \n",
       "\n",
       "        club_member_status fashion_news_frequency   age   \n",
       "1365681             ACTIVE                   NONE  37.0  \\\n",
       "994751              ACTIVE                   NONE  41.0   \n",
       "435826              ACTIVE                   NONE  57.0   \n",
       "429314              ACTIVE                   NONE  24.0   \n",
       "311344              ACTIVE                   NONE  37.0   \n",
       "446175          PRE-CREATE                   NONE  25.0   \n",
       "953509              ACTIVE              Regularly  46.0   \n",
       "1107388             ACTIVE                   NONE  32.0   \n",
       "65559               ACTIVE                   NONE  33.0   \n",
       "635463              ACTIVE                   NONE  30.0   \n",
       "\n",
       "                                               postal_code  \n",
       "1365681  530dcb540f540ad7e3b6ec03772fb4319e2063b6288273...  \n",
       "994751   2e10f9c9154830853c465e6c34db663391f7e3ad56ecb2...  \n",
       "435826   2c29ae653a9282cce4151bd87643c907644e09541abc28...  \n",
       "429314   2c29ae653a9282cce4151bd87643c907644e09541abc28...  \n",
       "311344   2c29ae653a9282cce4151bd87643c907644e09541abc28...  \n",
       "446175   65b5757a0ee4d4a62f5b68241482c23eb910f109fce2d0...  \n",
       "953509   cbf6b258279087af127e0c80b1d5cbf952246fe34ea926...  \n",
       "1107388  1913d218f8ee034acd990a6197d57329a29037f40d8998...  \n",
       "65559    5f160c2a6edfa619dc5e0679efa7b0b2b6cf8a74afe315...  \n",
       "635463   f0dafb6f3bba0e97b057e08a0b3b9be1b5cbffcce01545...  "
      ]
     },
     "execution_count": 19,
     "metadata": {},
     "output_type": "execute_result"
    }
   ],
   "source": [
    "customers.sample(n=10)"
   ]
  },
  {
   "cell_type": "code",
   "execution_count": 20,
   "metadata": {},
   "outputs": [
    {
     "data": {
      "text/plain": [
       "count    1.356119e+06\n",
       "mean     3.638696e+01\n",
       "std      1.431363e+01\n",
       "min      1.600000e+01\n",
       "25%      2.400000e+01\n",
       "50%      3.200000e+01\n",
       "75%      4.900000e+01\n",
       "max      9.900000e+01\n",
       "Name: age, dtype: float64"
      ]
     },
     "execution_count": 20,
     "metadata": {},
     "output_type": "execute_result"
    }
   ],
   "source": [
    "customers[\"age\"].describe()"
   ]
  },
  {
   "cell_type": "code",
   "execution_count": 21,
   "metadata": {},
   "outputs": [
    {
     "data": {
      "text/plain": [
       "age\n",
       "21.0    67530\n",
       "24.0    56124\n",
       "20.0    55196\n",
       "25.0    54989\n",
       "23.0    54867\n",
       "        ...  \n",
       "98.0        7\n",
       "97.0        4\n",
       "93.0        4\n",
       "96.0        3\n",
       "94.0        3\n",
       "Name: count, Length: 84, dtype: int64"
      ]
     },
     "execution_count": 21,
     "metadata": {},
     "output_type": "execute_result"
    }
   ],
   "source": [
    "customers[\"age\"].value_counts()"
   ]
  }
 ],
 "metadata": {
  "kernelspec": {
   "display_name": "Python 3",
   "language": "python",
   "name": "python3"
  },
  "language_info": {
   "codemirror_mode": {
    "name": "ipython",
    "version": 3
   },
   "file_extension": ".py",
   "mimetype": "text/x-python",
   "name": "python",
   "nbconvert_exporter": "python",
   "pygments_lexer": "ipython3",
   "version": "3.10.12"
  },
  "orig_nbformat": 4
 },
 "nbformat": 4,
 "nbformat_minor": 2
}
