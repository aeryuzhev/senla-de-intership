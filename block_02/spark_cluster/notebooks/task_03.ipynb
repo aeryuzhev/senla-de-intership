{
 "cells": [
  {
   "cell_type": "code",
   "execution_count": 1,
   "id": "59f78026-1d1a-48aa-a4a0-782f8de7373c",
   "metadata": {},
   "outputs": [],
   "source": [
    "import sys\n",
    "import glob\n",
    "from pathlib import Path\n",
    "\n",
    "from pyspark.sql import SparkSession\n",
    "from pyspark.sql.functions import (\n",
    "    col,\n",
    "    explode,\n",
    "    split,\n",
    "    regexp_replace,\n",
    "    lit,\n",
    "    concat,\n",
    "    lead,\n",
    "    lower\n",
    ")\n",
    "from pyspark.sql import Window"
   ]
  },
  {
   "cell_type": "code",
   "execution_count": 2,
   "id": "89b76d75-7190-4919-a114-2fb38c989bf9",
   "metadata": {},
   "outputs": [],
   "source": [
    "SONG_LYRICS_FILES = \"/home/jovyan/work/data/song_lyrics/*.txt\"\n",
    "OUTPUT_FILE = \"/home/jovyan/work/data/bigram_counts.csv\"\n",
    "SPLIT_PATTERN = r\"[\\s_]+|[^\\w-'`*:$&.]+|\\.\\.\\.*\"\n",
    "REPLACE_PATTERN = r\"^\\W+|\\W+$\""
   ]
  },
  {
   "cell_type": "code",
   "execution_count": 3,
   "id": "9a5b7cc5-44dd-4039-9eee-aff3cfaa5974",
   "metadata": {},
   "outputs": [],
   "source": [
    "files = glob.glob(SONG_LYRICS_FILES)\n",
    "output_file_dir_path = Path(OUTPUT_FILE).parent\n",
    "\n",
    "if not files:\n",
    "    sys.exit(f\"Path does not exist: {SONG_LYRICS_FILES}\")\n",
    "\n",
    "if not output_file_dir_path.exists():\n",
    "    sys.exit(f\"Path does not exist: {str(output_file_dir_path)}\")"
   ]
  },
  {
   "cell_type": "code",
   "execution_count": 4,
   "id": "95af5cd5-c5be-4baf-91e1-c54870c0f3a5",
   "metadata": {},
   "outputs": [],
   "source": [
    "spark = (\n",
    "    SparkSession.builder\n",
    "    .master(\"spark://spark-master:7077\")\n",
    "    .appName(\"bigram-count\")\n",
    "    .getOrCreate()\n",
    ")"
   ]
  },
  {
   "cell_type": "code",
   "execution_count": 5,
   "id": "51348acf-b016-4ed1-bef2-ff2505032616",
   "metadata": {},
   "outputs": [],
   "source": [
    "song_lyrics_df = (\n",
    "    spark.read\n",
    "    .format(\"text\")\n",
    "    .load(SONG_LYRICS_FILES)\n",
    ")"
   ]
  },
  {
   "cell_type": "code",
   "execution_count": 6,
   "id": "98651f7e-2b41-422a-9be8-ed6cad3cf740",
   "metadata": {},
   "outputs": [],
   "source": [
    "words_df = (\n",
    "    song_lyrics_df\n",
    "    .withColumn(\"word\", explode(split(col(\"value\"), SPLIT_PATTERN)))\n",
    "    .withColumn(\"word\", regexp_replace(col(\"word\"), REPLACE_PATTERN, \"\"))\n",
    "    .withColumn(\"word\", lower(col(\"word\")))\n",
    "    .where(col(\"word\") != \"\")\n",
    "    .select(\"word\")\n",
    ")"
   ]
  },
  {
   "cell_type": "code",
   "execution_count": 7,
   "id": "c94871d2-797b-47b2-b81f-611d69f06ae2",
   "metadata": {},
   "outputs": [],
   "source": [
    "window_spec_fake_order = Window.orderBy(lit(1))\n",
    "\n",
    "bigrams_df = (\n",
    "    words_df\n",
    "    .withColumn(\n",
    "        \"word\", \n",
    "        concat(\n",
    "            col(\"word\"), \n",
    "            lit(\" \"), \n",
    "            lead(col(\"word\"), 1, None).over(window_spec_fake_order)\n",
    "        )\n",
    "    )\n",
    "    .dropna()\n",
    ")"
   ]
  },
  {
   "cell_type": "code",
   "execution_count": 8,
   "id": "ad099781-7aef-47ce-9cb5-dae0bf9c080c",
   "metadata": {},
   "outputs": [],
   "source": [
    "counted_unique_bigrams_df = (\n",
    "    bigrams_df\n",
    "    .groupBy(\"word\")\n",
    "    .count()\n",
    "    .orderBy(col(\"count\").desc())\n",
    ")\n"
   ]
  },
  {
   "cell_type": "code",
   "execution_count": 9,
   "id": "c7911e59-addf-4e56-9725-52a1480ed916",
   "metadata": {},
   "outputs": [
    {
     "name": "stdout",
     "output_type": "stream",
     "text": [
      "total_bigrams\n"
     ]
    },
    {
     "data": {
      "text/plain": [
       "1348940"
      ]
     },
     "execution_count": 9,
     "metadata": {},
     "output_type": "execute_result"
    }
   ],
   "source": [
    "print(\"total_bigrams\")\n",
    "bigrams_df.count()"
   ]
  },
  {
   "cell_type": "code",
   "execution_count": 10,
   "id": "0f4f31a6-0b6d-402e-b7d4-b316447e0a2a",
   "metadata": {},
   "outputs": [
    {
     "name": "stdout",
     "output_type": "stream",
     "text": [
      "bigram_counts\n",
      "+--------+-----+\n",
      "|word    |count|\n",
      "+--------+-----+\n",
      "|in the  |5562 |\n",
      "|and i   |2809 |\n",
      "|on the  |2651 |\n",
      "|you know|2359 |\n",
      "|i don't |2142 |\n",
      "|i know  |2119 |\n",
      "|to the  |2118 |\n",
      "|i got   |1831 |\n",
      "|if you  |1736 |\n",
      "|like a  |1665 |\n",
      "+--------+-----+\n",
      "only showing top 10 rows\n",
      "\n"
     ]
    }
   ],
   "source": [
    "print(\"bigram_counts\")\n",
    "counted_unique_bigrams_df.show(10, False)"
   ]
  },
  {
   "cell_type": "code",
   "execution_count": 11,
   "id": "4b8597a1-3e51-42d7-800d-585d87e97e85",
   "metadata": {},
   "outputs": [],
   "source": [
    "(\n",
    "    counted_unique_bigrams_df\n",
    "    .toPandas()\n",
    "    .to_csv(OUTPUT_FILE, sep=\",\", index=False)\n",
    ")"
   ]
  },
  {
   "cell_type": "code",
   "execution_count": 12,
   "id": "829e7119-8098-481e-b214-96f5a4c64380",
   "metadata": {},
   "outputs": [],
   "source": [
    "spark.stop()"
   ]
  }
 ],
 "metadata": {
  "kernelspec": {
   "display_name": "Python 3 (ipykernel)",
   "language": "python",
   "name": "python3"
  },
  "language_info": {
   "codemirror_mode": {
    "name": "ipython",
    "version": 3
   },
   "file_extension": ".py",
   "mimetype": "text/x-python",
   "name": "python",
   "nbconvert_exporter": "python",
   "pygments_lexer": "ipython3",
   "version": "3.9.13"
  }
 },
 "nbformat": 4,
 "nbformat_minor": 5
}
