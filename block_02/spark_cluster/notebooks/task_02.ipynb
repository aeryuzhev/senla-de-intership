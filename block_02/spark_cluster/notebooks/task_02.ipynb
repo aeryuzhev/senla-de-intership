{
 "cells": [
  {
   "cell_type": "code",
   "execution_count": 1,
   "id": "011e9028-9c31-4af2-9cbb-ec85d3a4b273",
   "metadata": {},
   "outputs": [],
   "source": [
    "from pyspark.sql import SparkSession\n",
    "from pyspark.sql.functions import col, explode, split, regexp_replace, lower"
   ]
  },
  {
   "cell_type": "code",
   "execution_count": 2,
   "id": "de5693e2-1f5b-49e9-b1ad-3237954df0c7",
   "metadata": {},
   "outputs": [],
   "source": [
    "SONG_LYRICS_FILES = \"/home/jovyan/work/data/song_lyrics/*.txt\""
   ]
  },
  {
   "cell_type": "code",
   "execution_count": 3,
   "id": "279f7e51-d11e-4c35-b6fd-e134fcbf4f43",
   "metadata": {},
   "outputs": [],
   "source": [
    "spark = (\n",
    "    SparkSession.builder\n",
    "    .master(\"spark://spark-master:7077\")\n",
    "    .appName(\"word-count\")\n",
    "    .getOrCreate()\n",
    ")"
   ]
  },
  {
   "cell_type": "code",
   "execution_count": 4,
   "id": "43cc28f4-4b4c-4b53-811f-748ac40c7010",
   "metadata": {},
   "outputs": [],
   "source": [
    "song_lyrics_df = (\n",
    "    spark.read\n",
    "    .format(\"text\")\n",
    "    .load(SONG_LYRICS_FILES)\n",
    ")"
   ]
  },
  {
   "cell_type": "code",
   "execution_count": 5,
   "id": "20c1f5e4-ea04-41bb-aacd-a0c5b0b1bb67",
   "metadata": {},
   "outputs": [],
   "source": [
    "words_df = (\n",
    "    song_lyrics_df\n",
    "    .withColumn(\"word\", explode(split(col(\"value\"), \"\\s+\")))\n",
    "    .withColumn(\"word\", regexp_replace(col(\"word\"), \"^\\W+|\\W+$\", \"\"))\n",
    "    .where(col(\"word\") != \"\")\n",
    ")"
   ]
  },
  {
   "cell_type": "code",
   "execution_count": 6,
   "id": "37cd093b-6956-45df-87ce-fe6970b061b6",
   "metadata": {},
   "outputs": [],
   "source": [
    "counted_unique_words_df = (\n",
    "    words_df\n",
    "    .groupBy(\"word\")\n",
    "    .count()\n",
    "    .orderBy(col(\"count\").desc())\n",
    ")"
   ]
  },
  {
   "cell_type": "code",
   "execution_count": 7,
   "id": "1ce89e29-7fb5-43c1-a696-0941ae32bd53",
   "metadata": {},
   "outputs": [
    {
     "name": "stdout",
     "output_type": "stream",
     "text": [
      "total_words\n"
     ]
    },
    {
     "data": {
      "text/plain": [
       "1345811"
      ]
     },
     "execution_count": 7,
     "metadata": {},
     "output_type": "execute_result"
    }
   ],
   "source": [
    "print(\"total_words\")\n",
    "words_df.count()"
   ]
  },
  {
   "cell_type": "code",
   "execution_count": 8,
   "id": "b2cbf71f-7397-4bdc-8716-b266227bc551",
   "metadata": {},
   "outputs": [
    {
     "name": "stdout",
     "output_type": "stream",
     "text": [
      "word_counts\n",
      "+----+-----+\n",
      "|word|count|\n",
      "+----+-----+\n",
      "|I   |46120|\n",
      "|the |44602|\n",
      "|you |34876|\n",
      "|to  |24623|\n",
      "|a   |24263|\n",
      "|me  |20285|\n",
      "|my  |17297|\n",
      "|and |17248|\n",
      "|it  |15984|\n",
      "|in  |15287|\n",
      "+----+-----+\n",
      "only showing top 10 rows\n",
      "\n"
     ]
    }
   ],
   "source": [
    "print(\"word_counts\")\n",
    "counted_unique_words_df.show(10, False)"
   ]
  },
  {
   "cell_type": "code",
   "execution_count": 9,
   "id": "5d3f143f-5bbb-4582-be10-07e41979c349",
   "metadata": {},
   "outputs": [],
   "source": [
    "spark.stop()"
   ]
  }
 ],
 "metadata": {
  "kernelspec": {
   "display_name": "Python 3 (ipykernel)",
   "language": "python",
   "name": "python3"
  },
  "language_info": {
   "codemirror_mode": {
    "name": "ipython",
    "version": 3
   },
   "file_extension": ".py",
   "mimetype": "text/x-python",
   "name": "python",
   "nbconvert_exporter": "python",
   "pygments_lexer": "ipython3",
   "version": "3.9.13"
  }
 },
 "nbformat": 4,
 "nbformat_minor": 5
}
