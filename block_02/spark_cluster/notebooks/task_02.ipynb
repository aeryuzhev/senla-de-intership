{
 "cells": [
  {
   "cell_type": "code",
   "execution_count": 1,
   "id": "011e9028-9c31-4af2-9cbb-ec85d3a4b273",
   "metadata": {},
   "outputs": [],
   "source": [
    "import sys\n",
    "import glob\n",
    "from pathlib import Path\n",
    "\n",
    "from pyspark.sql import SparkSession\n",
    "from pyspark.sql.functions import (\n",
    "    col,\n",
    "    explode,\n",
    "    split,\n",
    "    regexp_replace,\n",
    "    lower\n",
    ")"
   ]
  },
  {
   "cell_type": "code",
   "execution_count": 2,
   "id": "de5693e2-1f5b-49e9-b1ad-3237954df0c7",
   "metadata": {},
   "outputs": [],
   "source": [
    "SONG_LYRICS_FILES = \"/home/jovyan/work/data/song_lyrics/*.txt\"\n",
    "OUTPUT_FILE = \"/home/jovyan/work/data/word_counts.csv\"\n",
    "SPLIT_PATTERN = r\"[\\s_]+|[^\\w-'`*:$&.]+|\\.\\.\\.*\"\n",
    "REPLACE_PATTERN = r\"^\\W+|\\W+$\""
   ]
  },
  {
   "cell_type": "code",
   "execution_count": 3,
   "id": "73163510-fe94-46c9-b041-b71f08b8a335",
   "metadata": {},
   "outputs": [],
   "source": [
    "files = glob.glob(SONG_LYRICS_FILES)\n",
    "output_file_dir_path = Path(OUTPUT_FILE).parent\n",
    "\n",
    "if not files:\n",
    "    sys.exit(f\"Path does not exist: {SONG_LYRICS_FILES}\")\n",
    "\n",
    "if not output_file_dir_path.exists():\n",
    "    sys.exit(f\"Path does not exist: {str(output_file_dir_path)}\")"
   ]
  },
  {
   "cell_type": "code",
   "execution_count": 4,
   "id": "279f7e51-d11e-4c35-b6fd-e134fcbf4f43",
   "metadata": {},
   "outputs": [],
   "source": [
    "spark = (\n",
    "    SparkSession.builder\n",
    "    .master(\"spark://spark-master:7077\")\n",
    "    .appName(\"word-count\")\n",
    "    .getOrCreate()\n",
    ")"
   ]
  },
  {
   "cell_type": "code",
   "execution_count": 5,
   "id": "43cc28f4-4b4c-4b53-811f-748ac40c7010",
   "metadata": {},
   "outputs": [],
   "source": [
    "song_lyrics_df = (\n",
    "    spark.read\n",
    "    .format(\"text\")\n",
    "    .load(SONG_LYRICS_FILES)\n",
    ")"
   ]
  },
  {
   "cell_type": "code",
   "execution_count": 6,
   "id": "20c1f5e4-ea04-41bb-aacd-a0c5b0b1bb67",
   "metadata": {},
   "outputs": [],
   "source": [
    "words_df = (\n",
    "    song_lyrics_df\n",
    "    .withColumn(\"word\", explode(split(col(\"value\"), SPLIT_PATTERN)))\n",
    "    .withColumn(\"word\", regexp_replace(col(\"word\"), REPLACE_PATTERN, \"\"))\n",
    "    .withColumn(\"word\", lower(col(\"word\")))\n",
    "    .where(col(\"word\") != \"\")\n",
    "    .select(\"word\")\n",
    ")"
   ]
  },
  {
   "cell_type": "code",
   "execution_count": 7,
   "id": "37cd093b-6956-45df-87ce-fe6970b061b6",
   "metadata": {},
   "outputs": [],
   "source": [
    "counted_unique_words_df = (\n",
    "    words_df\n",
    "    .groupBy(\"word\")\n",
    "    .count()\n",
    "    .orderBy(col(\"count\").desc())\n",
    ")"
   ]
  },
  {
   "cell_type": "code",
   "execution_count": 8,
   "id": "1ce89e29-7fb5-43c1-a696-0941ae32bd53",
   "metadata": {},
   "outputs": [
    {
     "name": "stdout",
     "output_type": "stream",
     "text": [
      "total_words\n"
     ]
    },
    {
     "data": {
      "text/plain": [
       "1348941"
      ]
     },
     "execution_count": 8,
     "metadata": {},
     "output_type": "execute_result"
    }
   ],
   "source": [
    "print(\"total_words\")\n",
    "words_df.count()"
   ]
  },
  {
   "cell_type": "code",
   "execution_count": 9,
   "id": "b2cbf71f-7397-4bdc-8716-b266227bc551",
   "metadata": {},
   "outputs": [
    {
     "name": "stdout",
     "output_type": "stream",
     "text": [
      "word_counts\n",
      "+----+-----+\n",
      "|word|count|\n",
      "+----+-----+\n",
      "|the |49546|\n",
      "|i   |46973|\n",
      "|you |42494|\n",
      "|and |29429|\n",
      "|to  |26780|\n",
      "|a   |26118|\n",
      "|me  |21103|\n",
      "|my  |19522|\n",
      "|it  |17884|\n",
      "|in  |17048|\n",
      "+----+-----+\n",
      "only showing top 10 rows\n",
      "\n"
     ]
    }
   ],
   "source": [
    "print(\"word_counts\")\n",
    "counted_unique_words_df.show(10, False)"
   ]
  },
  {
   "cell_type": "code",
   "execution_count": 10,
   "id": "f27609c0-cda2-4a79-a2fe-3f219fa5a508",
   "metadata": {},
   "outputs": [],
   "source": [
    "(\n",
    "    counted_unique_words_df\n",
    "    .toPandas()\n",
    "    .to_csv(OUTPUT_FILE, sep=\",\", index=False)\n",
    ")"
   ]
  },
  {
   "cell_type": "code",
   "execution_count": 11,
   "id": "5d3f143f-5bbb-4582-be10-07e41979c349",
   "metadata": {},
   "outputs": [],
   "source": [
    "spark.stop()"
   ]
  }
 ],
 "metadata": {
  "kernelspec": {
   "display_name": "Python 3 (ipykernel)",
   "language": "python",
   "name": "python3"
  },
  "language_info": {
   "codemirror_mode": {
    "name": "ipython",
    "version": 3
   },
   "file_extension": ".py",
   "mimetype": "text/x-python",
   "name": "python",
   "nbconvert_exporter": "python",
   "pygments_lexer": "ipython3",
   "version": "3.9.13"
  }
 },
 "nbformat": 4,
 "nbformat_minor": 5
}
