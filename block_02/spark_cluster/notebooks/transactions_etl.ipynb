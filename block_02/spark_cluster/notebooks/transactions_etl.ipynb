{
 "cells": [
  {
   "cell_type": "code",
   "execution_count": 1,
   "metadata": {},
   "outputs": [],
   "source": [
    "from datetime import datetime\n",
    "from dateutil.relativedelta import relativedelta\n",
    "import argparse\n",
    "\n",
    "from pyspark.sql import SparkSession, DataFrame\n",
    "from pyspark.sql.types import (\n",
    "    StructType,\n",
    "    StructField,\n",
    "    DateType,\n",
    "    StringType,\n",
    "    IntegerType,\n",
    "    DecimalType,\n",
    ")\n",
    "from pyspark.sql.functions import (\n",
    "    col,\n",
    "    when,\n",
    "    first,\n",
    "    last_day,\n",
    "    sum,\n",
    "    count,\n",
    "    countDistinct,\n",
    ")\n",
    "from pyspark.sql.window import Window"
   ]
  },
  {
   "cell_type": "code",
   "execution_count": 2,
   "metadata": {},
   "outputs": [],
   "source": [
    "DATE_PARAM = \"2018-12-31\"\n",
    "TRANSACTIONS_FILE = \"/home/jovyan/work/data/transactions_train.csv\"\n",
    "ARTICLES_FILE = \"/home/jovyan/work/data/articles.csv\"\n",
    "CUSTOMERS_FILE = \"/home/jovyan/work/data/customers.csv\"\n",
    "OUTPUT_FILE = \"/home/jovyan/work/data/data_mart.csv\"\n",
    "\n",
    "filter_date = datetime.strptime(DATE_PARAM, \"%Y-%m-%d\")\n",
    "DATE_BEGIN = filter_date + relativedelta(day=1)\n",
    "DATE_END = filter_date + relativedelta(day=31)"
   ]
  },
  {
   "cell_type": "code",
   "execution_count": 3,
   "metadata": {},
   "outputs": [],
   "source": [
    "spark = (\n",
    "    SparkSession.builder\n",
    "    .master(\"spark://spark-master:7077\")\n",
    "    .appName(\"transactions-etl\")\n",
    "    .getOrCreate()\n",
    ")"
   ]
  },
  {
   "cell_type": "code",
   "execution_count": 4,
   "metadata": {},
   "outputs": [],
   "source": [
    "transactions_schema = StructType(\n",
    "    [\n",
    "        StructField(\"t_dat\", DateType(), True),\n",
    "        StructField(\"customer_id\", StringType(), True),\n",
    "        StructField(\"article_id\", IntegerType(), True),\n",
    "        StructField(\"price\", DecimalType(22, 20), True),\n",
    "        StructField(\"sales_channel_id\", IntegerType(), True),\n",
    "    ]\n",
    ")"
   ]
  },
  {
   "cell_type": "code",
   "execution_count": 5,
   "metadata": {},
   "outputs": [],
   "source": [
    "articles_schema = StructType(\n",
    "    [\n",
    "        StructField('article_id', IntegerType(), True), \n",
    "        StructField('product_code', IntegerType(), True), \n",
    "        StructField('prod_name', StringType(), True), \n",
    "        StructField('product_type_no', IntegerType(), True), \n",
    "        StructField('product_type_name', StringType(), True), \n",
    "        StructField('product_group_name', StringType(), True), \n",
    "        StructField('graphical_appearance_no', IntegerType(), True), \n",
    "        StructField('graphical_appearance_name', StringType(), True), \n",
    "        StructField('colour_group_code', IntegerType(), True), \n",
    "        StructField('colour_group_name', StringType(), True), \n",
    "        StructField('perceived_colour_value_id', IntegerType(), True), \n",
    "        StructField('perceived_colour_value_name', StringType(), True), \n",
    "        StructField('perceived_colour_master_id', IntegerType(), True), \n",
    "        StructField('perceived_colour_master_name', StringType(), True), \n",
    "        StructField('department_no', IntegerType(), True), \n",
    "        StructField('department_name', StringType(), True), \n",
    "        StructField('index_code', StringType(), True), \n",
    "        StructField('index_name', StringType(), True), \n",
    "        StructField('index_group_no', IntegerType(), True), \n",
    "        StructField('index_group_name', StringType(), True), \n",
    "        StructField('section_no', IntegerType(), True), \n",
    "        StructField('section_name', StringType(), True), \n",
    "        StructField('garment_group_no', IntegerType(), True), \n",
    "        StructField('garment_group_name', StringType(), True), \n",
    "        StructField('detail_desc', StringType(), True)\n",
    "    ]\n",
    ")"
   ]
  },
  {
   "cell_type": "code",
   "execution_count": 6,
   "metadata": {},
   "outputs": [],
   "source": [
    "customers_schema = StructType(\n",
    "    [\n",
    "        StructField('customer_id', StringType(), True), \n",
    "        StructField('FN', DecimalType(2, 1), True), \n",
    "        StructField('Active', DecimalType(2, 1), True), \n",
    "        StructField('club_member_status', StringType(), True), \n",
    "        StructField('fashion_news_frequency', StringType(), True), \n",
    "        StructField('age', IntegerType(), True), \n",
    "        StructField('postal_code', StringType(), True)\n",
    "    ]\n",
    ")"
   ]
  },
  {
   "cell_type": "code",
   "execution_count": 7,
   "metadata": {},
   "outputs": [],
   "source": [
    "transactions_df = (\n",
    "    spark.read\n",
    "    .format(\"csv\")\n",
    "    .schema(transactions_schema)\n",
    "    .option(\"header\", \"true\")\n",
    "    .option(\"delimiter\", \",\")\n",
    "    .load(TRANSACTIONS_FILE)\n",
    ")"
   ]
  },
  {
   "cell_type": "code",
   "execution_count": 8,
   "metadata": {},
   "outputs": [],
   "source": [
    "articles_df = (\n",
    "    spark.read\n",
    "    .format(\"csv\")\n",
    "    .schema(articles_schema)\n",
    "    .option(\"header\", \"true\")\n",
    "    .option(\"delimiter\", \",\")\n",
    "    .load(ARTICLES_FILE)\n",
    ")"
   ]
  },
  {
   "cell_type": "code",
   "execution_count": 9,
   "metadata": {},
   "outputs": [],
   "source": [
    "customers_df = (\n",
    "    spark.read\n",
    "    .format(\"csv\")\n",
    "    .schema(customers_schema)\n",
    "    .option(\"header\", \"true\")\n",
    "    .option(\"delimiter\", \",\")\n",
    "    .load(CUSTOMERS_FILE)\n",
    ")"
   ]
  },
  {
   "cell_type": "code",
   "execution_count": 10,
   "metadata": {},
   "outputs": [],
   "source": [
    "filtered_transactions_df = (\n",
    "    transactions_df\n",
    "    .where(\n",
    "        (col(\"t_dat\") >= DATE_BEGIN) & \n",
    "        (col(\"t_dat\") <= DATE_END)\n",
    "    )\n",
    ")"
   ]
  },
  {
   "cell_type": "code",
   "execution_count": 11,
   "metadata": {},
   "outputs": [],
   "source": [
    "enriched_transactions_df = (\n",
    "    filtered_transactions_df\n",
    "    .join(customers_df, \"customer_id\", \"inner\")\n",
    "    .join(articles_df, \"article_id\", \"inner\")\n",
    "    .select(\n",
    "        \"t_dat\",\n",
    "        \"customer_id\",\n",
    "        \"article_id\",\n",
    "        \"price\",\n",
    "        \"age\",\n",
    "        \"product_group_name\"        \n",
    "    )\n",
    ")"
   ]
  },
  {
   "cell_type": "code",
   "execution_count": 12,
   "metadata": {},
   "outputs": [],
   "source": [
    "window_spec_most_expensive_article = (\n",
    "    Window\n",
    "    .partitionBy(\"customer_id\")\n",
    "    .orderBy(\n",
    "        col(\"price\").desc(), \n",
    "        col(\"t_dat\")\n",
    "    )\n",
    ")\n",
    "\n",
    "transformed_transactions_df = (\n",
    "    enriched_transactions_df\n",
    "    .withColumn(\n",
    "        \"customer_group_by_age\",\n",
    "        when(col(\"age\") < 23, \"S\")\n",
    "        .when(col(\"age\") < 60, \"A\")\n",
    "        .otherwise(\"R\")\n",
    "    )\n",
    "    .withColumn(\n",
    "        \"most_exp_article_id\",\n",
    "        first(\"article_id\")\n",
    "        .over(window_spec_most_expensive_article)\n",
    "    )\n",
    "    .withColumn(\n",
    "        \"part_date\",\n",
    "        last_day(col(\"t_dat\"))\n",
    "    )\n",
    "    .select(\n",
    "        \"part_date\",\n",
    "        \"customer_id\",\n",
    "        \"article_id\",\n",
    "        \"price\",\n",
    "        \"product_group_name\",    \n",
    "        \"customer_group_by_age\",\n",
    "        \"most_exp_article_id\"\n",
    "    )\n",
    ")"
   ]
  },
  {
   "cell_type": "code",
   "execution_count": 13,
   "metadata": {},
   "outputs": [],
   "source": [
    "aggregated_transactions_df = (\n",
    "    transformed_transactions_df\n",
    "    .groupBy(\n",
    "        \"part_date\", \n",
    "        \"customer_id\", \n",
    "        \"customer_group_by_age\", \n",
    "        \"most_exp_article_id\"\n",
    "    )\n",
    "    .agg(\n",
    "        sum(\"price\").alias(\"transaction_amount\"),\n",
    "        count(\"article_id\").alias(\"number_of_articles\"),\n",
    "        countDistinct(\"product_group_name\").alias(\"number_of_product_groups\")\n",
    "    )\n",
    "    .select(\n",
    "        \"part_date\", \n",
    "        \"customer_id\", \n",
    "        \"customer_group_by_age\",\n",
    "        \"transaction_amount\",\n",
    "        \"most_exp_article_id\",\n",
    "        \"number_of_articles\",\n",
    "        \"number_of_product_groups\"        \n",
    "    )\n",
    ")"
   ]
  },
  {
   "cell_type": "code",
   "execution_count": 14,
   "metadata": {},
   "outputs": [],
   "source": [
    "# (\n",
    "#     aggregated_transactions\n",
    "#     .coalesce(1)\n",
    "#     .write\n",
    "#     .mode(\"overwrite\")\n",
    "#     .format(\"csv\")\n",
    "#     .option(\"header\", \"true\")\n",
    "#     .option(\"delimiter\", \",\")\n",
    "#     .save(OUTPUT_FILE)\n",
    "# )"
   ]
  },
  {
   "cell_type": "code",
   "execution_count": 15,
   "metadata": {},
   "outputs": [],
   "source": [
    "(\n",
    "    aggregated_transactions_df\n",
    "    .toPandas()\n",
    "    .to_csv(OUTPUT_FILE, sep=\",\", index=False)\n",
    ")"
   ]
  },
  {
   "cell_type": "code",
   "execution_count": 16,
   "metadata": {},
   "outputs": [],
   "source": [
    "spark.stop()"
   ]
  }
 ],
 "metadata": {
  "kernelspec": {
   "display_name": "Python 3 (ipykernel)",
   "language": "python",
   "name": "python3"
  },
  "language_info": {
   "codemirror_mode": {
    "name": "ipython",
    "version": 3
   },
   "file_extension": ".py",
   "mimetype": "text/x-python",
   "name": "python",
   "nbconvert_exporter": "python",
   "pygments_lexer": "ipython3",
   "version": "3.9.13"
  }
 },
 "nbformat": 4,
 "nbformat_minor": 4
}
