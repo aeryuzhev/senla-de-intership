{
 "cells": [
  {
   "cell_type": "code",
   "execution_count": 92,
   "metadata": {},
   "outputs": [],
   "source": [
    "from datetime import datetime\n",
    "from dateutil.relativedelta import relativedelta\n",
    "\n",
    "from pyspark.sql import SparkSession\n",
    "from pyspark.sql import types as T\n",
    "from pyspark.sql import functions as F"
   ]
  },
  {
   "cell_type": "code",
   "execution_count": 100,
   "metadata": {},
   "outputs": [],
   "source": [
    "DATE_PARAM = \"2018-12-31\"\n",
    "TRANSACTIONS_FILE = \"file:///home/jovyan/work/data/transactions_train.csv\"\n",
    "ARTICLES_FILE = \"file:///home/jovyan/work/data/articles.csv\"\n",
    "CUSTOMERS_FILE = \"file:///home/jovyan/work/data/customers.csv\""
   ]
  },
  {
   "cell_type": "code",
   "execution_count": 102,
   "metadata": {},
   "outputs": [],
   "source": [
    "filter_date = datetime.strptime(DATE_PARAM, \"%Y-%m-%d\")\n",
    "date_begin = filter_date + relativedelta(day=1)\n",
    "date_end = filter_date + relativedelta(day=31)"
   ]
  },
  {
   "cell_type": "code",
   "execution_count": 57,
   "metadata": {},
   "outputs": [],
   "source": [
    "spark = (\n",
    "    SparkSession.builder\n",
    "    .master(\"spark://spark-master:7077\")\n",
    "    .appName(\"transactions-data-mart\")\n",
    "    .getOrCreate()\n",
    ")"
   ]
  },
  {
   "cell_type": "code",
   "execution_count": 58,
   "metadata": {},
   "outputs": [],
   "source": [
    "transactions_schema = T.StructType(\n",
    "    [\n",
    "        T.StructField(\"t_dat\", T.DateType(), True),\n",
    "        T.StructField(\"customer_id\", T.StringType(), True),\n",
    "        T.StructField(\"article_id\", T.IntegerType(), True),\n",
    "        T.StructField(\"price\", T.DecimalType(22, 20), True),\n",
    "        T.StructField(\"sales_channel_id\", T.IntegerType(), True) \n",
    "    ]\n",
    ")"
   ]
  },
  {
   "cell_type": "code",
   "execution_count": 59,
   "metadata": {},
   "outputs": [],
   "source": [
    "articles_schema = T.StructType(\n",
    "    [\n",
    "        T.StructField('article_id', T.IntegerType(), True), \n",
    "        T.StructField('product_code', T.IntegerType(), True), \n",
    "        T.StructField('prod_name', T.StringType(), True), \n",
    "        T.StructField('product_type_no', T.IntegerType(), True), \n",
    "        T.StructField('product_type_name', T.StringType(), True), \n",
    "        T.StructField('product_group_name', T.StringType(), True), \n",
    "        T.StructField('graphical_appearance_no', T.IntegerType(), True), \n",
    "        T.StructField('graphical_appearance_name', T.StringType(), True), \n",
    "        T.StructField('colour_group_code', T.IntegerType(), True), \n",
    "        T.StructField('colour_group_name', T.StringType(), True), \n",
    "        T.StructField('perceived_colour_value_id', T.IntegerType(), True), \n",
    "        T.StructField('perceived_colour_value_name', T.StringType(), True), \n",
    "        T.StructField('perceived_colour_master_id', T.IntegerType(), True), \n",
    "        T.StructField('perceived_colour_master_name', T.StringType(), True), \n",
    "        T.StructField('department_no', T.IntegerType(), True), \n",
    "        T.StructField('department_name', T.StringType(), True), \n",
    "        T.StructField('index_code', T.StringType(), True), \n",
    "        T.StructField('index_name', T.StringType(), True), \n",
    "        T.StructField('index_group_no', T.IntegerType(), True), \n",
    "        T.StructField('index_group_name', T.StringType(), True), \n",
    "        T.StructField('section_no', T.IntegerType(), True), \n",
    "        T.StructField('section_name', T.StringType(), True), \n",
    "        T.StructField('garment_group_no', T.IntegerType(), True), \n",
    "        T.StructField('garment_group_name', T.StringType(), True), \n",
    "        T.StructField('detail_desc', T.StringType(), True)\n",
    "    ]\n",
    ")"
   ]
  },
  {
   "cell_type": "code",
   "execution_count": 60,
   "metadata": {},
   "outputs": [],
   "source": [
    "customers_schema = T.StructType(\n",
    "    [\n",
    "        T.StructField('customer_id', T.StringType(), True), \n",
    "        T.StructField('FN', T.DecimalType(2, 1), True), \n",
    "        T.StructField('Active', T.DecimalType(2, 1), True), \n",
    "        T.StructField('club_member_status', T.StringType(), True), \n",
    "        T.StructField('fashion_news_frequency', T.StringType(), True), \n",
    "        T.StructField('age', T.IntegerType(), True), \n",
    "        T.StructField('postal_code', T.StringType(), True)\n",
    "    ]\n",
    ")"
   ]
  },
  {
   "cell_type": "code",
   "execution_count": 61,
   "metadata": {},
   "outputs": [],
   "source": [
    "transactions_df = (\n",
    "    spark.read\n",
    "    .format(\"csv\")\n",
    "    .schema(transactions_schema)\n",
    "    .option(\"header\", \"true\")\n",
    "    .option(\"delimiter\", \",\")\n",
    "    .load(TRANSACTIONS_FILE)\n",
    ")"
   ]
  },
  {
   "cell_type": "code",
   "execution_count": 62,
   "metadata": {},
   "outputs": [],
   "source": [
    "articles_df = (\n",
    "    spark.read\n",
    "    .format(\"csv\")\n",
    "    .schema(articles_schema)\n",
    "    .option(\"header\", \"true\")\n",
    "    .option(\"delimiter\", \",\")\n",
    "    .load(ARTICLES_FILE)\n",
    ")"
   ]
  },
  {
   "cell_type": "code",
   "execution_count": 63,
   "metadata": {},
   "outputs": [],
   "source": [
    "customers_df = (\n",
    "    spark.read\n",
    "    .format(\"csv\")\n",
    "    .schema(customers_schema)\n",
    "    .option(\"header\", \"true\")\n",
    "    .option(\"delimiter\", \",\")\n",
    "    .load(CUSTOMERS_FILE)\n",
    ")"
   ]
  },
  {
   "cell_type": "code",
   "execution_count": 64,
   "metadata": {},
   "outputs": [
    {
     "name": "stdout",
     "output_type": "stream",
     "text": [
      "+----------+----------------------------------------------------------------+----------+----------------------+----------------+\n",
      "|t_dat     |customer_id                                                     |article_id|price                 |sales_channel_id|\n",
      "+----------+----------------------------------------------------------------+----------+----------------------+----------------+\n",
      "|2018-09-20|000058a12d5b43e67d225668fa1f8d618c13dc232df0cad8ffe7ad4a1091e318|663713001 |0.05083050847457626400|2               |\n",
      "|2018-09-20|000058a12d5b43e67d225668fa1f8d618c13dc232df0cad8ffe7ad4a1091e318|541518023 |0.03049152542372881000|2               |\n",
      "|2018-09-20|00007d2de826758b65a93dd24ce629ed66842531df6699338c5570910a014cc2|505221004 |0.01523728813559322000|2               |\n",
      "|2018-09-20|00007d2de826758b65a93dd24ce629ed66842531df6699338c5570910a014cc2|685687003 |0.01693220338983050800|2               |\n",
      "|2018-09-20|00007d2de826758b65a93dd24ce629ed66842531df6699338c5570910a014cc2|685687004 |0.01693220338983050800|2               |\n",
      "+----------+----------------------------------------------------------------+----------+----------------------+----------------+\n",
      "only showing top 5 rows\n",
      "\n"
     ]
    }
   ],
   "source": [
    "transactions_df.show(5, False)"
   ]
  },
  {
   "cell_type": "code",
   "execution_count": 65,
   "metadata": {},
   "outputs": [
    {
     "name": "stdout",
     "output_type": "stream",
     "text": [
      "+----------+------------+-----------------+---------------+-----------------+------------------+-----------------------+-------------------------+-----------------+-----------------+-------------------------+---------------------------+--------------------------+----------------------------+-------------+---------------+----------+----------------+--------------+----------------+----------+----------------------+----------------+------------------+------------------------------------------------------------------------------------------------------------------------------------------------------------------------------------------------------------------------------------------------+\n",
      "|article_id|product_code|prod_name        |product_type_no|product_type_name|product_group_name|graphical_appearance_no|graphical_appearance_name|colour_group_code|colour_group_name|perceived_colour_value_id|perceived_colour_value_name|perceived_colour_master_id|perceived_colour_master_name|department_no|department_name|index_code|index_name      |index_group_no|index_group_name|section_no|section_name          |garment_group_no|garment_group_name|detail_desc                                                                                                                                                                                                                                     |\n",
      "+----------+------------+-----------------+---------------+-----------------+------------------+-----------------------+-------------------------+-----------------+-----------------+-------------------------+---------------------------+--------------------------+----------------------------+-------------+---------------+----------+----------------+--------------+----------------+----------+----------------------+----------------+------------------+------------------------------------------------------------------------------------------------------------------------------------------------------------------------------------------------------------------------------------------------+\n",
      "|108775015 |108775      |Strap top        |253            |Vest top         |Garment Upper body|1010016                |Solid                    |9                |Black            |4                        |Dark                       |5                         |Black                       |1676         |Jersey Basic   |A         |Ladieswear      |1             |Ladieswear      |16        |Womens Everyday Basics|1002            |Jersey Basic      |Jersey top with narrow shoulder straps.                                                                                                                                                                                                         |\n",
      "|108775044 |108775      |Strap top        |253            |Vest top         |Garment Upper body|1010016                |Solid                    |10               |White            |3                        |Light                      |9                         |White                       |1676         |Jersey Basic   |A         |Ladieswear      |1             |Ladieswear      |16        |Womens Everyday Basics|1002            |Jersey Basic      |Jersey top with narrow shoulder straps.                                                                                                                                                                                                         |\n",
      "|108775051 |108775      |Strap top (1)    |253            |Vest top         |Garment Upper body|1010017                |Stripe                   |11               |Off White        |1                        |Dusty Light                |9                         |White                       |1676         |Jersey Basic   |A         |Ladieswear      |1             |Ladieswear      |16        |Womens Everyday Basics|1002            |Jersey Basic      |Jersey top with narrow shoulder straps.                                                                                                                                                                                                         |\n",
      "|110065001 |110065      |OP T-shirt (Idro)|306            |Bra              |Underwear         |1010016                |Solid                    |9                |Black            |4                        |Dark                       |5                         |Black                       |1339         |Clean Lingerie |B         |Lingeries/Tights|1             |Ladieswear      |61        |Womens Lingerie       |1017            |Under-, Nightwear |Microfibre T-shirt bra with underwired, moulded, lightly padded cups that shape the bust and provide good support. Narrow adjustable shoulder straps and a narrow hook-and-eye fastening at the back. Without visible seams for greater comfort.|\n",
      "|110065002 |110065      |OP T-shirt (Idro)|306            |Bra              |Underwear         |1010016                |Solid                    |10               |White            |3                        |Light                      |9                         |White                       |1339         |Clean Lingerie |B         |Lingeries/Tights|1             |Ladieswear      |61        |Womens Lingerie       |1017            |Under-, Nightwear |Microfibre T-shirt bra with underwired, moulded, lightly padded cups that shape the bust and provide good support. Narrow adjustable shoulder straps and a narrow hook-and-eye fastening at the back. Without visible seams for greater comfort.|\n",
      "+----------+------------+-----------------+---------------+-----------------+------------------+-----------------------+-------------------------+-----------------+-----------------+-------------------------+---------------------------+--------------------------+----------------------------+-------------+---------------+----------+----------------+--------------+----------------+----------+----------------------+----------------+------------------+------------------------------------------------------------------------------------------------------------------------------------------------------------------------------------------------------------------------------------------------+\n",
      "only showing top 5 rows\n",
      "\n"
     ]
    }
   ],
   "source": [
    "articles_df.show(5, False)"
   ]
  },
  {
   "cell_type": "code",
   "execution_count": 66,
   "metadata": {},
   "outputs": [
    {
     "name": "stdout",
     "output_type": "stream",
     "text": [
      "+----------------------------------------------------------------+----+------+------------------+----------------------+---+----------------------------------------------------------------+\n",
      "|customer_id                                                     |FN  |Active|club_member_status|fashion_news_frequency|age|postal_code                                                     |\n",
      "+----------------------------------------------------------------+----+------+------------------+----------------------+---+----------------------------------------------------------------+\n",
      "|00000dbacae5abe5e23885899a1fa44253a17956c6d1c3d25f88aa139fdfc657|null|null  |ACTIVE            |NONE                  |49 |52043ee2162cf5aa7ee79974281641c6f11a68d276429a91f8ca0d4b6efa8100|\n",
      "|0000423b00ade91418cceaf3b26c6af3dd342b51fd051eec9c12fb36984420fa|null|null  |ACTIVE            |NONE                  |25 |2973abc54daa8a5f8ccfe9362140c63247c5eee03f1d93f4c830291c32bc3057|\n",
      "|000058a12d5b43e67d225668fa1f8d618c13dc232df0cad8ffe7ad4a1091e318|null|null  |ACTIVE            |NONE                  |24 |64f17e6a330a85798e4998f62d0930d14db8db1c054af6c9090f7dd3e38380dc|\n",
      "|00005ca1c9ed5f5146b52ac8639a40ca9d57aeff4d1bd2c5feb1ca5dff07c43e|null|null  |ACTIVE            |NONE                  |54 |5d36574f52495e81f019b680c843c443bd343d5ca5b1c222539af5973a23ae6d|\n",
      "|00006413d8573cd20ed7128e53b7b13819fe5cfc2d801fe7fc0f26dd8d65a85a|1.0 |1.0   |ACTIVE            |Regularly             |52 |25fa5ddee9aac01b35208d01736e57942317d756b32ddd4564743b005a805b1d|\n",
      "+----------------------------------------------------------------+----+------+------------------+----------------------+---+----------------------------------------------------------------+\n",
      "only showing top 5 rows\n",
      "\n"
     ]
    }
   ],
   "source": [
    "customers_df.show(5, False)"
   ]
  },
  {
   "cell_type": "code",
   "execution_count": 107,
   "metadata": {},
   "outputs": [],
   "source": [
    "filtered_transactions_df = (\n",
    "    transactions_df\n",
    "    .where(\n",
    "        (F.col(\"t_dat\") >= date_begin) & \n",
    "        (F.col(\"t_dat\") <= date_end)\n",
    "    )\n",
    ")"
   ]
  },
  {
   "cell_type": "code",
   "execution_count": 108,
   "metadata": {},
   "outputs": [
    {
     "name": "stderr",
     "output_type": "stream",
     "text": [
      "[Stage 29:=============================>                            (2 + 2) / 4]\r"
     ]
    },
    {
     "name": "stdout",
     "output_type": "stream",
     "text": [
      "+----------+--------------------+----------+--------------------+----------------+\n",
      "|     t_dat|         customer_id|article_id|               price|sales_channel_id|\n",
      "+----------+--------------------+----------+--------------------+----------------+\n",
      "|2018-12-01|000782c5ed3f985d9...| 573085020|0.033881355932203...|               1|\n",
      "|2018-12-01|0019bbc42b332e285...| 715730001|0.050830508474576...|               2|\n",
      "|2018-12-01|0021f97b775f64436...| 569562005|0.036000000000000...|               1|\n",
      "|2018-12-01|002e9cd227bbef22c...| 633136009|0.033881355932203...|               2|\n",
      "|2018-12-01|0038b16b41bf785c0...| 661435002|0.084728813559322...|               2|\n",
      "+----------+--------------------+----------+--------------------+----------------+\n",
      "only showing top 5 rows\n",
      "\n"
     ]
    },
    {
     "name": "stderr",
     "output_type": "stream",
     "text": [
      "                                                                                \r"
     ]
    }
   ],
   "source": [
    "filtered_transactions_df.show(5)"
   ]
  }
 ],
 "metadata": {
  "kernelspec": {
   "display_name": "Python 3",
   "language": "python",
   "name": "python3"
  },
  "language_info": {
   "codemirror_mode": {
    "name": "ipython",
    "version": 3
   },
   "file_extension": ".py",
   "mimetype": "text/x-python",
   "name": "python",
   "nbconvert_exporter": "python",
   "pygments_lexer": "ipython3",
   "version": "3.10.12"
  },
  "orig_nbformat": 4
 },
 "nbformat": 4,
 "nbformat_minor": 2
}
