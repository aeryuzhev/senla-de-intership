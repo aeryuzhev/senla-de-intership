{
 "cells": [
  {
   "cell_type": "code",
   "execution_count": 1,
   "metadata": {},
   "outputs": [],
   "source": [
    "from datetime import datetime\n",
    "from dateutil.relativedelta import relativedelta\n",
    "\n",
    "from pyspark.sql import SparkSession\n",
    "from pyspark.sql import types as T\n",
    "from pyspark.sql import functions as F\n",
    "from pyspark.sql.window import Window"
   ]
  },
  {
   "cell_type": "code",
   "execution_count": 2,
   "metadata": {},
   "outputs": [],
   "source": [
    "DATE_PARAM = \"2018-12-31\"\n",
    "TRANSACTIONS_FILE = \"/home/jovyan/work/data/transactions_train.csv\"\n",
    "ARTICLES_FILE = \"/home/jovyan/work/data/articles.csv\"\n",
    "CUSTOMERS_FILE = \"/home/jovyan/work/data/customers.csv\"\n",
    "OUTPUT_FILE = \"/home/jovyan/work/data/data_mart.csv\""
   ]
  },
  {
   "cell_type": "code",
   "execution_count": 3,
   "metadata": {},
   "outputs": [],
   "source": [
    "filter_date = datetime.strptime(DATE_PARAM, \"%Y-%m-%d\")\n",
    "date_begin = filter_date + relativedelta(day=1)\n",
    "date_end = filter_date + relativedelta(day=31)"
   ]
  },
  {
   "cell_type": "code",
   "execution_count": 4,
   "metadata": {},
   "outputs": [],
   "source": [
    "spark = (\n",
    "    SparkSession.builder\n",
    "    .master(\"spark://spark-master:7077\")\n",
    "    .appName(\"transactions-data-mart\")\n",
    "    .getOrCreate()\n",
    ")"
   ]
  },
  {
   "cell_type": "code",
   "execution_count": 5,
   "metadata": {},
   "outputs": [],
   "source": [
    "transactions_schema = T.StructType(\n",
    "    [\n",
    "        T.StructField(\"t_dat\", T.DateType(), True),\n",
    "        T.StructField(\"customer_id\", T.StringType(), True),\n",
    "        T.StructField(\"article_id\", T.IntegerType(), True),\n",
    "        T.StructField(\"price\", T.DecimalType(22, 20), True),\n",
    "        T.StructField(\"sales_channel_id\", T.IntegerType(), True) \n",
    "    ]\n",
    ")"
   ]
  },
  {
   "cell_type": "code",
   "execution_count": 6,
   "metadata": {},
   "outputs": [],
   "source": [
    "articles_schema = T.StructType(\n",
    "    [\n",
    "        T.StructField('article_id', T.IntegerType(), True), \n",
    "        T.StructField('product_code', T.IntegerType(), True), \n",
    "        T.StructField('prod_name', T.StringType(), True), \n",
    "        T.StructField('product_type_no', T.IntegerType(), True), \n",
    "        T.StructField('product_type_name', T.StringType(), True), \n",
    "        T.StructField('product_group_name', T.StringType(), True), \n",
    "        T.StructField('graphical_appearance_no', T.IntegerType(), True), \n",
    "        T.StructField('graphical_appearance_name', T.StringType(), True), \n",
    "        T.StructField('colour_group_code', T.IntegerType(), True), \n",
    "        T.StructField('colour_group_name', T.StringType(), True), \n",
    "        T.StructField('perceived_colour_value_id', T.IntegerType(), True), \n",
    "        T.StructField('perceived_colour_value_name', T.StringType(), True), \n",
    "        T.StructField('perceived_colour_master_id', T.IntegerType(), True), \n",
    "        T.StructField('perceived_colour_master_name', T.StringType(), True), \n",
    "        T.StructField('department_no', T.IntegerType(), True), \n",
    "        T.StructField('department_name', T.StringType(), True), \n",
    "        T.StructField('index_code', T.StringType(), True), \n",
    "        T.StructField('index_name', T.StringType(), True), \n",
    "        T.StructField('index_group_no', T.IntegerType(), True), \n",
    "        T.StructField('index_group_name', T.StringType(), True), \n",
    "        T.StructField('section_no', T.IntegerType(), True), \n",
    "        T.StructField('section_name', T.StringType(), True), \n",
    "        T.StructField('garment_group_no', T.IntegerType(), True), \n",
    "        T.StructField('garment_group_name', T.StringType(), True), \n",
    "        T.StructField('detail_desc', T.StringType(), True)\n",
    "    ]\n",
    ")"
   ]
  },
  {
   "cell_type": "code",
   "execution_count": 7,
   "metadata": {},
   "outputs": [],
   "source": [
    "customers_schema = T.StructType(\n",
    "    [\n",
    "        T.StructField('customer_id', T.StringType(), True), \n",
    "        T.StructField('FN', T.DecimalType(2, 1), True), \n",
    "        T.StructField('Active', T.DecimalType(2, 1), True), \n",
    "        T.StructField('club_member_status', T.StringType(), True), \n",
    "        T.StructField('fashion_news_frequency', T.StringType(), True), \n",
    "        T.StructField('age', T.IntegerType(), True), \n",
    "        T.StructField('postal_code', T.StringType(), True)\n",
    "    ]\n",
    ")"
   ]
  },
  {
   "cell_type": "code",
   "execution_count": 8,
   "metadata": {},
   "outputs": [],
   "source": [
    "transactions_df = (\n",
    "    spark.read\n",
    "    .format(\"csv\")\n",
    "    .schema(transactions_schema)\n",
    "    .option(\"header\", \"true\")\n",
    "    .option(\"delimiter\", \",\")\n",
    "    .load(TRANSACTIONS_FILE)\n",
    ")"
   ]
  },
  {
   "cell_type": "code",
   "execution_count": 9,
   "metadata": {},
   "outputs": [],
   "source": [
    "articles_df = (\n",
    "    spark.read\n",
    "    .format(\"csv\")\n",
    "    .schema(articles_schema)\n",
    "    .option(\"header\", \"true\")\n",
    "    .option(\"delimiter\", \",\")\n",
    "    .load(ARTICLES_FILE)\n",
    ")"
   ]
  },
  {
   "cell_type": "code",
   "execution_count": 10,
   "metadata": {},
   "outputs": [],
   "source": [
    "customers_df = (\n",
    "    spark.read\n",
    "    .format(\"csv\")\n",
    "    .schema(customers_schema)\n",
    "    .option(\"header\", \"true\")\n",
    "    .option(\"delimiter\", \",\")\n",
    "    .load(CUSTOMERS_FILE)\n",
    ")"
   ]
  },
  {
   "cell_type": "code",
   "execution_count": 11,
   "metadata": {},
   "outputs": [],
   "source": [
    "filtered_transactions_df = (\n",
    "    transactions_df\n",
    "    .where(\n",
    "        (F.col(\"t_dat\") >= date_begin) & \n",
    "        (F.col(\"t_dat\") <= date_end)\n",
    "    )\n",
    ")"
   ]
  },
  {
   "cell_type": "code",
   "execution_count": 12,
   "metadata": {},
   "outputs": [],
   "source": [
    "enriched_transactions_df = (\n",
    "    filtered_transactions_df\n",
    "    .join(customers_df, \"customer_id\", \"inner\")\n",
    "    .join(articles_df, \"article_id\", \"inner\")\n",
    "    .select(\n",
    "        \"t_dat\",\n",
    "        \"customer_id\",\n",
    "        \"article_id\",\n",
    "        \"price\",\n",
    "        \"age\",\n",
    "        \"product_group_name\"        \n",
    "    )\n",
    ")"
   ]
  },
  {
   "cell_type": "code",
   "execution_count": 13,
   "metadata": {},
   "outputs": [],
   "source": [
    "window_spec_most_expensive_article = (\n",
    "    Window\n",
    "    .partitionBy(\"customer_id\")\n",
    "    .orderBy(\n",
    "        F.col(\"price\").desc(), \n",
    "        F.col(\"t_dat\")\n",
    "    )\n",
    ")\n",
    "\n",
    "transformed_transactions_df = (\n",
    "    enriched_transactions_df\n",
    "    .withColumn(\n",
    "        \"customer_group_by_age\",\n",
    "        F.when(F.col(\"age\") < 23, \"S\")\n",
    "        .when(F.col(\"age\") < 60, \"A\")\n",
    "        .otherwise(\"R\")\n",
    "    )\n",
    "    .withColumn(\n",
    "        \"most_exp_article_id\",\n",
    "        F.first(\"article_id\")\n",
    "        .over(window_spec_most_expensive_article)\n",
    "    )\n",
    "    .withColumn(\n",
    "        \"part_date\",\n",
    "        F.last_day(F.col(\"t_dat\"))\n",
    "    )\n",
    "    .select(\n",
    "        \"part_date\",\n",
    "        \"customer_id\",\n",
    "        \"article_id\",\n",
    "        \"price\",\n",
    "        \"product_group_name\",    \n",
    "        \"customer_group_by_age\",\n",
    "        \"most_exp_article_id\"\n",
    "    )\n",
    ")"
   ]
  },
  {
   "cell_type": "code",
   "execution_count": 14,
   "metadata": {},
   "outputs": [],
   "source": [
    "aggregated_transactions_df = (\n",
    "    transformed_transactions_df\n",
    "    .groupBy(\n",
    "        \"part_date\", \n",
    "        \"customer_id\", \n",
    "        \"customer_group_by_age\", \n",
    "        \"most_exp_article_id\"\n",
    "    )\n",
    "    .agg(\n",
    "        F.sum(\"price\").alias(\"transaction_amount\"),\n",
    "        F.count(\"article_id\").alias(\"number_of_articles\"),\n",
    "        F.countDistinct(\"product_group_name\").alias(\"number_of_product_groups\")\n",
    "    )\n",
    "    .select(\n",
    "        \"part_date\", \n",
    "        \"customer_id\", \n",
    "        \"customer_group_by_age\",\n",
    "        \"transaction_amount\",\n",
    "        \"most_exp_article_id\",\n",
    "        \"number_of_articles\",\n",
    "        \"number_of_product_groups\"        \n",
    "    )\n",
    ")"
   ]
  },
  {
   "cell_type": "code",
   "execution_count": 15,
   "metadata": {},
   "outputs": [],
   "source": [
    "# (\n",
    "#     aggregated_transactions\n",
    "#     .coalesce(1)\n",
    "#     .write\n",
    "#     .mode(\"overwrite\")\n",
    "#     .format(\"csv\")\n",
    "#     .option(\"header\", \"true\")\n",
    "#     .option(\"delimiter\", \",\")\n",
    "#     .save(OUTPUT_FILE)\n",
    "# )"
   ]
  },
  {
   "cell_type": "code",
   "execution_count": 16,
   "metadata": {},
   "outputs": [],
   "source": [
    "(\n",
    "    aggregated_transactions_df\n",
    "    .toPandas()\n",
    "    .to_csv(OUTPUT_FILE, sep=\",\", index=False)\n",
    ")"
   ]
  },
  {
   "cell_type": "code",
   "execution_count": 17,
   "metadata": {},
   "outputs": [],
   "source": [
    "spark.stop()"
   ]
  }
 ],
 "metadata": {
  "kernelspec": {
   "display_name": "Python 3 (ipykernel)",
   "language": "python",
   "name": "python3"
  },
  "language_info": {
   "codemirror_mode": {
    "name": "ipython",
    "version": 3
   },
   "file_extension": ".py",
   "mimetype": "text/x-python",
   "name": "python",
   "nbconvert_exporter": "python",
   "pygments_lexer": "ipython3",
   "version": "3.10.6"
  }
 },
 "nbformat": 4,
 "nbformat_minor": 4
}
